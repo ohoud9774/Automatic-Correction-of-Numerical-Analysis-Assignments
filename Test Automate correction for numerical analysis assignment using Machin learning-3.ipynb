{
 "cells": [
  {
   "cell_type": "code",
   "execution_count": 317,
   "id": "c7987d3e",
   "metadata": {
    "scrolled": true
   },
   "outputs": [],
   "source": [
    "\n",
    "import pandas as pd\n",
    "import numpy as np"
   ]
  },
  {
   "cell_type": "code",
   "execution_count": 388,
   "id": "61e99962",
   "metadata": {},
   "outputs": [
    {
     "name": "stdout",
     "output_type": "stream",
     "text": [
      "                                              question  \\\n",
      "0    The true value of the length of a door, a hand...   \n",
      "1    The true value of the length of a door, a hand...   \n",
      "2    The true value of the length of a door, a hand...   \n",
      "3    The true value of the length of a door, a hand...   \n",
      "4    The true value of the length of a door, a hand...   \n",
      "..                                                 ...   \n",
      "545  The true value of the length of a door, a hand...   \n",
      "546  The true value of the length of a door, a hand...   \n",
      "547  The true value of the length of a door, a hand...   \n",
      "548  The true value of the length of a door, a hand...   \n",
      "549  The true value of the length of a door, a hand...   \n",
      "\n",
      "                                              solution  type  \n",
      "0                                 \"(22/150)*100=14.6\"      0  \n",
      "1                                         0.5/25*100=2     0  \n",
      "2                                          25-24.5=0.5     0  \n",
      "3                                 (|6-5.6|/6)*100=6.66     0  \n",
      "4                                 (|25-24.6|/25)*100=2     0  \n",
      "..                                                 ...   ...  \n",
      "545  (|6-5.6|/6)*100=6.66  (|25-24.6|/25)*100=2  (|...     2  \n",
      "546                          |150-147.8|/150*100=1.466     2  \n",
      "547                          (150-147.8/150)100=1.466%     2  \n",
      "548  True percent relative error= true erorr/true v...     2  \n",
      "549  True percent relative error= true erorr/true v...     2  \n",
      "\n",
      "[550 rows x 3 columns]\n"
     ]
    }
   ],
   "source": [
    "data = pd.read_excel('research_data.xls') \n",
    "print(data)"
   ]
  },
  {
   "cell_type": "code",
   "execution_count": 319,
   "id": "1291be55",
   "metadata": {},
   "outputs": [
    {
     "name": "stdout",
     "output_type": "stream",
     "text": [
      "<class 'pandas.core.frame.DataFrame'>\n",
      "RangeIndex: 550 entries, 0 to 549\n",
      "Data columns (total 3 columns):\n",
      " #   Column    Non-Null Count  Dtype \n",
      "---  ------    --------------  ----- \n",
      " 0   question  550 non-null    object\n",
      " 1   solution  550 non-null    object\n",
      " 2   type      550 non-null    int64 \n",
      "dtypes: int64(1), object(2)\n",
      "memory usage: 13.0+ KB\n"
     ]
    }
   ],
   "source": [
    "data.info()"
   ]
  },
  {
   "cell_type": "code",
   "execution_count": 320,
   "id": "773fd583",
   "metadata": {},
   "outputs": [
    {
     "data": {
      "text/html": [
       "<div>\n",
       "<style scoped>\n",
       "    .dataframe tbody tr th:only-of-type {\n",
       "        vertical-align: middle;\n",
       "    }\n",
       "\n",
       "    .dataframe tbody tr th {\n",
       "        vertical-align: top;\n",
       "    }\n",
       "\n",
       "    .dataframe thead th {\n",
       "        text-align: right;\n",
       "    }\n",
       "</style>\n",
       "<table border=\"1\" class=\"dataframe\">\n",
       "  <thead>\n",
       "    <tr style=\"text-align: right;\">\n",
       "      <th></th>\n",
       "      <th>type</th>\n",
       "    </tr>\n",
       "  </thead>\n",
       "  <tbody>\n",
       "    <tr>\n",
       "      <th>count</th>\n",
       "      <td>550.000000</td>\n",
       "    </tr>\n",
       "    <tr>\n",
       "      <th>mean</th>\n",
       "      <td>1.007273</td>\n",
       "    </tr>\n",
       "    <tr>\n",
       "      <th>std</th>\n",
       "      <td>0.818692</td>\n",
       "    </tr>\n",
       "    <tr>\n",
       "      <th>min</th>\n",
       "      <td>0.000000</td>\n",
       "    </tr>\n",
       "    <tr>\n",
       "      <th>25%</th>\n",
       "      <td>0.000000</td>\n",
       "    </tr>\n",
       "    <tr>\n",
       "      <th>50%</th>\n",
       "      <td>1.000000</td>\n",
       "    </tr>\n",
       "    <tr>\n",
       "      <th>75%</th>\n",
       "      <td>2.000000</td>\n",
       "    </tr>\n",
       "    <tr>\n",
       "      <th>max</th>\n",
       "      <td>2.000000</td>\n",
       "    </tr>\n",
       "  </tbody>\n",
       "</table>\n",
       "</div>"
      ],
      "text/plain": [
       "             type\n",
       "count  550.000000\n",
       "mean     1.007273\n",
       "std      0.818692\n",
       "min      0.000000\n",
       "25%      0.000000\n",
       "50%      1.000000\n",
       "75%      2.000000\n",
       "max      2.000000"
      ]
     },
     "execution_count": 320,
     "metadata": {},
     "output_type": "execute_result"
    }
   ],
   "source": [
    "data.describe()"
   ]
  },
  {
   "cell_type": "code",
   "execution_count": 321,
   "id": "2a0a1382",
   "metadata": {},
   "outputs": [],
   "source": [
    "df = pd.DataFrame(data, columns= ['type', 'solution'])"
   ]
  },
  {
   "cell_type": "code",
   "execution_count": 348,
   "id": "33ea29a7",
   "metadata": {},
   "outputs": [],
   "source": [
    "x=np.array(df['solution']) \n",
    "y=np.array(df['type'])"
   ]
  },
  {
   "cell_type": "code",
   "execution_count": 367,
   "id": "4b45589e",
   "metadata": {},
   "outputs": [
    {
     "data": {
      "text/plain": [
       "'\"(22/150)*100=14.6\" '"
      ]
     },
     "execution_count": 367,
     "metadata": {},
     "output_type": "execute_result"
    }
   ],
   "source": [
    "x"
   ]
  },
  {
   "cell_type": "code",
   "execution_count": 325,
   "id": "fe2acb94",
   "metadata": {},
   "outputs": [
    {
     "data": {
      "text/plain": [
       "array([0, 0, 0, 0, 0, 0, 0, 0, 0, 0, 0, 0, 0, 0, 0, 0, 0, 0, 0, 0, 0, 0,\n",
       "       0, 0, 0, 0, 0, 0, 0, 0, 0, 0, 0, 0, 0, 0, 0, 0, 0, 0, 0, 0, 0, 0,\n",
       "       0, 0, 0, 0, 0, 0, 0, 0, 0, 0, 0, 0, 0, 0, 0, 0, 0, 0, 0, 0, 0, 0,\n",
       "       0, 0, 0, 0, 0, 0, 0, 0, 0, 0, 0, 0, 0, 0, 0, 0, 0, 0, 0, 0, 0, 0,\n",
       "       0, 0, 0, 0, 0, 0, 0, 0, 0, 0, 0, 0, 0, 0, 0, 0, 0, 0, 0, 0, 0, 0,\n",
       "       0, 0, 0, 0, 0, 0, 0, 0, 0, 0, 0, 0, 0, 0, 0, 0, 0, 0, 0, 0, 0, 0,\n",
       "       0, 0, 0, 0, 0, 0, 0, 0, 0, 0, 0, 0, 0, 0, 0, 0, 0, 0, 0, 0, 0, 0,\n",
       "       0, 0, 0, 0, 0, 0, 0, 0, 0, 0, 0, 0, 0, 0, 0, 0, 0, 0, 0, 0, 0, 0,\n",
       "       0, 0, 0, 0, 0, 0, 1, 1, 1, 1, 1, 1, 1, 1, 1, 1, 1, 1, 1, 1, 1, 1,\n",
       "       1, 1, 1, 1, 1, 1, 1, 1, 1, 1, 1, 1, 1, 1, 1, 1, 1, 1, 1, 1, 1, 1,\n",
       "       1, 1, 1, 1, 1, 1, 1, 1, 1, 1, 1, 1, 1, 1, 1, 1, 1, 1, 1, 1, 1, 1,\n",
       "       1, 1, 1, 1, 1, 1, 1, 1, 1, 1, 1, 1, 1, 1, 1, 1, 1, 1, 1, 1, 1, 1,\n",
       "       1, 1, 1, 1, 1, 1, 1, 1, 1, 1, 1, 1, 1, 1, 1, 1, 1, 1, 1, 1, 1, 1,\n",
       "       1, 1, 1, 1, 1, 1, 1, 1, 1, 1, 1, 1, 1, 1, 1, 1, 1, 1, 1, 1, 1, 1,\n",
       "       1, 1, 1, 1, 1, 1, 1, 1, 1, 1, 1, 1, 1, 1, 1, 1, 1, 1, 1, 1, 1, 1,\n",
       "       1, 1, 1, 1, 1, 1, 1, 1, 1, 1, 1, 1, 1, 1, 1, 1, 1, 1, 1, 1, 1, 1,\n",
       "       1, 1, 1, 1, 1, 1, 1, 1, 1, 1, 1, 1, 2, 2, 2, 2, 2, 2, 2, 2, 2, 2,\n",
       "       2, 2, 2, 2, 2, 2, 2, 2, 2, 2, 2, 2, 2, 2, 2, 2, 2, 2, 2, 2, 2, 2,\n",
       "       2, 2, 2, 2, 2, 2, 2, 2, 2, 2, 2, 2, 2, 2, 2, 2, 2, 2, 2, 2, 2, 2,\n",
       "       2, 2, 2, 2, 2, 2, 2, 2, 2, 2, 2, 2, 2, 2, 2, 2, 2, 2, 2, 2, 2, 2,\n",
       "       2, 2, 2, 2, 2, 2, 2, 2, 2, 2, 2, 2, 2, 2, 2, 2, 2, 2, 2, 2, 2, 2,\n",
       "       2, 2, 2, 2, 2, 2, 2, 2, 2, 2, 2, 2, 2, 2, 2, 2, 2, 2, 2, 2, 2, 2,\n",
       "       2, 2, 2, 2, 2, 2, 2, 2, 2, 2, 2, 2, 2, 2, 2, 2, 2, 2, 2, 2, 2, 2,\n",
       "       2, 2, 2, 2, 2, 2, 2, 2, 2, 2, 2, 2, 2, 2, 2, 2, 2, 2, 2, 2, 2, 2,\n",
       "       2, 2, 2, 2, 2, 2, 2, 2, 2, 2, 2, 2, 2, 2, 2, 2, 2, 2, 2, 2, 2, 2])"
      ]
     },
     "execution_count": 325,
     "metadata": {},
     "output_type": "execute_result"
    }
   ],
   "source": [
    "y"
   ]
  },
  {
   "cell_type": "code",
   "execution_count": 381,
   "id": "8e1260cb",
   "metadata": {},
   "outputs": [],
   "source": [
    "from sklearn.feature_extraction.text import TfidfVectorizer\n",
    "v = TfidfVectorizer()\n",
    "x = v.fit_transform(df['solution'])"
   ]
  },
  {
   "cell_type": "code",
   "execution_count": 327,
   "id": "b4912f03",
   "metadata": {
    "scrolled": true
   },
   "outputs": [],
   "source": [
    "from sklearn.model_selection import train_test_split"
   ]
  },
  {
   "cell_type": "code",
   "execution_count": 328,
   "id": "5fa8cb8e",
   "metadata": {},
   "outputs": [
    {
     "name": "stdout",
     "output_type": "stream",
     "text": [
      "(440, 36)\n",
      "(110, 36)\n",
      "(440,)\n",
      "(110,)\n"
     ]
    }
   ],
   "source": [
    "X_train,X_test,y_train,y_test=train_test_split(x,y,test_size=0.2,random_state=1) \n",
    "print(X_train.shape) #- input train features\n",
    "print(X_test.shape)  #- #input test features\n",
    "print(y_train.shape) #- #output train labels\n",
    "print(y_test.shape) #-  #output test labels"
   ]
  },
  {
   "cell_type": "code",
   "execution_count": 329,
   "id": "c0ed8860",
   "metadata": {},
   "outputs": [
    {
     "data": {
      "text/plain": [
       "GradientBoostingClassifier()"
      ]
     },
     "execution_count": 329,
     "metadata": {},
     "output_type": "execute_result"
    }
   ],
   "source": [
    "#creating GradientBoostingClassifier \n",
    "from sklearn.ensemble import GradientBoostingClassifier\n",
    "clf5 = GradientBoostingClassifier()\n",
    "clf5.fit(X_train, y_train)"
   ]
  },
  {
   "cell_type": "code",
   "execution_count": 330,
   "id": "7bbf30a3",
   "metadata": {},
   "outputs": [],
   "source": [
    "#Save Model to disk\n",
    "import pickle\n",
    "filename= 'test.sav'\n",
    "pickle.dump(clf5, open(filename, 'wb'))"
   ]
  },
  {
   "cell_type": "code",
   "execution_count": 337,
   "id": "94734fd2",
   "metadata": {},
   "outputs": [],
   "source": [
    "Model1 = pickle.load (open ('test.sav', 'rb'))"
   ]
  },
  {
   "cell_type": "code",
   "execution_count": 336,
   "id": "9ce2baa3",
   "metadata": {
    "scrolled": true
   },
   "outputs": [
    {
     "name": "stdout",
     "output_type": "stream",
     "text": [
      "0.8636363636363636\n"
     ]
    }
   ],
   "source": [
    "#Load the model from disk\n",
    "loaded_model = pickle.load(open(filename, 'rb'))\n",
    "result = loaded_model.score(X_test, y_test)\n",
    "print(result)"
   ]
  },
  {
   "cell_type": "code",
   "execution_count": null,
   "id": "0a0f6f6b",
   "metadata": {},
   "outputs": [],
   "source": [
    "#input user\n",
    "val= input(\"The true value of the length of a door, a handle and a key and are 150,/ln 25 and 6 cm, respectively. However, the measured values of the door, the handle and the key are 147.8, 24.5 and 5.6cm, respectively. Calculate: The true percent relative error for door.\")"
   ]
  },
  {
   "cell_type": "code",
   "execution_count": null,
   "id": "2d04f458",
   "metadata": {},
   "outputs": [],
   "source": [
    "from sklearn.feature_extraction.text import TfidfVectorizer\n",
    "v = TfidfVectorizer()\n",
    "#train , test for testing my own data in the input\n",
    "train=v.fit_transform(df['solution'])"
   ]
  },
  {
   "cell_type": "code",
   "execution_count": null,
   "id": "803fc21a",
   "metadata": {},
   "outputs": [],
   "source": [
    "test= v.transform([val])"
   ]
  },
  {
   "cell_type": "code",
   "execution_count": null,
   "id": "ccccf673",
   "metadata": {},
   "outputs": [],
   "source": [
    "#not important just to see input shape \n",
    "test.shape"
   ]
  },
  {
   "cell_type": "code",
   "execution_count": null,
   "id": "545ea90f",
   "metadata": {},
   "outputs": [],
   "source": [
    "#the prediction\n",
    "ModelRuselt = Model1.predict (test)\n",
    "print (ModelRuselt)"
   ]
  },
  {
   "cell_type": "code",
   "execution_count": null,
   "id": "978a0c06",
   "metadata": {},
   "outputs": [],
   "source": []
  }
 ],
 "metadata": {
  "kernelspec": {
   "display_name": "Python 3 (ipykernel)",
   "language": "python",
   "name": "python3"
  },
  "language_info": {
   "codemirror_mode": {
    "name": "ipython",
    "version": 3
   },
   "file_extension": ".py",
   "mimetype": "text/x-python",
   "name": "python",
   "nbconvert_exporter": "python",
   "pygments_lexer": "ipython3",
   "version": "3.9.7"
  }
 },
 "nbformat": 4,
 "nbformat_minor": 5
}
